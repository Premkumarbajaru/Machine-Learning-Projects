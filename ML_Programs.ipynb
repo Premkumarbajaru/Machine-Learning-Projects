{
  "nbformat": 4,
  "nbformat_minor": 0,
  "metadata": {
    "colab": {
      "provenance": [],
      "include_colab_link": true
    },
    "kernelspec": {
      "name": "python3",
      "display_name": "Python 3"
    },
    "language_info": {
      "name": "python"
    }
  },
  "cells": [
    {
      "cell_type": "markdown",
      "metadata": {
        "id": "view-in-github",
        "colab_type": "text"
      },
      "source": [
        "<a href=\"https://colab.research.google.com/github/Premkumarbajaru/Machine-Learning-Projects/blob/main/ML_Programs.ipynb\" target=\"_parent\"><img src=\"https://colab.research.google.com/assets/colab-badge.svg\" alt=\"Open In Colab\"/></a>"
      ]
    },
    {
      "cell_type": "markdown",
      "source": [
        "1. The probability that it is Friday and that a student is absent is 3%. Since there are 5 school days in a week, the probability that it is Friday is 20%. What is theprobability that a student is absent given that today is Friday? Apply Baye’s rule in python to get the result."
      ],
      "metadata": {
        "id": "7sE-vtXsHUuK"
      }
    },
    {
      "cell_type": "code",
      "source": [
        "# The probability that it is Friday and that a student is absent is 3%\n",
        "pAF=0.03\n",
        "print(\"The probability that it is Friday and that a student is absent :\",pAF)\n",
        "# The probability that it is Friday is 20%\n",
        "pF=0.2\n",
        "print(\"The probability that it is Friday : \",pF)\n",
        "# The probability that a student is absent given that today is Friday\n",
        "pResult=(pAF/pF)\n",
        "# Display the Result\n",
        "print(\"The probability that a student is absent given that today is Friday : \",pResult * 100,\"%\")"
      ],
      "metadata": {
        "colab": {
          "base_uri": "https://localhost:8080/"
        },
        "id": "px_9P-xlHSI3",
        "outputId": "90bdbf4c-c84c-4511-c0c2-2598b0b111fb"
      },
      "execution_count": null,
      "outputs": [
        {
          "output_type": "stream",
          "name": "stdout",
          "text": [
            "The probability that it is Friday and that a student is absent : 0.03\n",
            "The probability that it is Friday :  0.2\n",
            "The probability that a student is absent given that today is Friday :  15.0 %\n"
          ]
        }
      ]
    },
    {
      "cell_type": "markdown",
      "source": [
        "2. Extract the data from database using python."
      ],
      "metadata": {
        "id": "Qogr6nGTtEwF"
      }
    },
    {
      "cell_type": "markdown",
      "source": [
        "\n",
        "Steps to execute 2nd program:\n",
        "\n",
        "a) Install MYSQL Workbench\n",
        "\n",
        "b) First You need to Create a Table (students) in Mysql Database (studentdb) and insert data into the table.\n",
        "\n",
        "  ---CREATE SCHEMA `studentdb`;\n",
        "\n",
        "  ---CREATE TABLE `studentdb`.`students` (`sid` INT NOT NULL,`sname` VARCHAR(45) NOT     NULL,`age` INT NOT NULL,PRIMARY KEY (`sid`));\n",
        "\n",
        " ---INSERT INTO `studentdb`.`students` (`sid`, `sname`, `age`) VALUES ('01', 'abc', '20');\n",
        "\n",
        " ---INSERT INTO `studentdb`.`students` (`sid`, `sname`, `age`) VALUES ('02', 'xyz', '21');\n",
        "\n",
        " ---INSERT INTO `studentdb`.`students` (`sid`, `sname`, `age`) VALUES ('03', 'lmn', '19');\n",
        "\n",
        "c) Install Python\n",
        "\n",
        "d) Next, Open Command prompt and then execute the following command to connect with mysql database through python.\n",
        "\n",
        "--> pip install pymysql (Windows)\n",
        "\n",
        "e) Open Vs Code or any code editor and save the file as dbconnect.py , run the program\n"
      ],
      "metadata": {
        "id": "9uNRYZL8ZmRv"
      }
    },
    {
      "cell_type": "markdown",
      "source": [
        "**2nd Program code:**\n",
        "\n",
        "import pymysql\n",
        "\n",
        "connection = pymysql.connect( host='localhost', user='root', password='admin', database='studentdb' )\n",
        "\n",
        "cursor = connection.cursor()\n",
        "\n",
        "cursor.execute('SELECT * FROM students;')\n",
        "\n",
        "rows = cursor.fetchall()\n",
        "\n",
        "for row in rows:\n",
        "    \n",
        "  print(row)\n",
        "\n",
        "cursor.close()\n",
        "\n",
        "connection.close()"
      ],
      "metadata": {
        "id": "qJYrCOARrEnd"
      }
    },
    {
      "cell_type": "markdown",
      "source": [
        "**2nd Program OUTPUT: **\n",
        "\n",
        "c:/Users/lenovo/Desktop/dbconnect.py\n",
        "\n",
        "(1, 'abc', 20)\n",
        "\n",
        "(2, 'xyz', 21)\n",
        "\n",
        "(3, 'lmn', 19)"
      ],
      "metadata": {
        "id": "I_kz0Fixpj_f"
      }
    },
    {
      "cell_type": "markdown",
      "source": [
        "3. Implement k-nearest neighbours classification using python"
      ],
      "metadata": {
        "id": "DsywKNofGz6Y"
      }
    },
    {
      "cell_type": "code",
      "source": [
        "from sklearn.neighbors import KNeighborsClassifier\n",
        "from sklearn.model_selection import train_test_split\n",
        "from sklearn.datasets import load_iris\n",
        "#\tLoading data\n",
        "irisData = load_iris()\n",
        "#\tCreate feature and target arrays\n",
        "X = irisData.data\n",
        "\n",
        "y = irisData.target\n",
        "#\tSplit into training and test set\n",
        "\n",
        "X_train, X_test, y_train, y_test = train_test_split(\n",
        "\n",
        "X, y, test_size = 0.2, random_state=42)\n",
        "\n",
        "knn = KNeighborsClassifier(n_neighbors=7)\n",
        "\n",
        "knn.fit(X_train, y_train)\n",
        "# Predict on dataset which model has not seen before\n",
        "print(knn.predict(X_test))\n"
      ],
      "metadata": {
        "colab": {
          "base_uri": "https://localhost:8080/"
        },
        "id": "4E-OdLV9FWUg",
        "outputId": "a8f409de-263e-4d69-e6ca-2b3cc78ab529"
      },
      "execution_count": null,
      "outputs": [
        {
          "output_type": "stream",
          "name": "stdout",
          "text": [
            "[1 0 2 1 1 0 1 2 2 1 2 0 0 0 0 1 2 1 1 2 0 2 0 2 2 2 2 2 0 0]\n"
          ]
        }
      ]
    },
    {
      "cell_type": "markdown",
      "source": [
        "4. Given the following data, which specify classifications for nine ombinations of VAR1 and VAR2 predict a classification for a case where VAR1=0.906 and VAR2=0.606, using the result of k-means clustering with 3 means (i.e., 3 centroids)\n",
        "\n",
        "VAR1 VAR2 CLASS\n",
        "\n",
        "1.713 1.586 0\n",
        "\n",
        "0.180 1.786 1\n",
        "\n",
        "0.353 1.240 1\n",
        "\n",
        "0.940 1.566 0\n",
        "\n",
        "1.486 0.759 1\n",
        "\n",
        "1.266 1.106 0\n",
        "\n",
        "1.540 0.419 1\n",
        "\n",
        "0.459 1.799 1\n",
        "\n",
        "0.773 0.186 1\n"
      ],
      "metadata": {
        "id": "F_RrowhIGgJm"
      }
    },
    {
      "cell_type": "code",
      "source": [
        "from sklearn.cluster import KMeans\n",
        "import numpy as np\n",
        "X = np.array([[1.713,1.586], [0.180,1.786], [0.353,1.240],\n",
        "[0.940,1.566], [1.486,0.759], [1.266,1.106],[1.540,0.419],[0.459,1.799],[0.773,0.186]])\n",
        "y=np.array([0,1,1,0,1,0,1,1,1])\n",
        "kmeans = KMeans(n_clusters=3, random_state=0).fit(X,y)\n",
        "print(\"The input data is \")\n",
        "print(\"VAR1 \\t VAR2 \\t CLASS\")\n",
        "i=0\n",
        "for val in X:\n",
        "\tprint(val[0],\"\\t\",val[1],\"\\t\",y[i])\n",
        "\ti+=1\n",
        "print(\"=\"*20)\n",
        "# To get test data from the user\n",
        "print(\"The Test data to predict \")\n",
        "test_data = []\n",
        "VAR1 = float(input(\"Enter Value for VAR1 :\"))\n",
        "VAR2 = float(input(\"Enter Value for VAR2 :\"))\n",
        "test_data.append(VAR1)\n",
        "test_data.append(VAR2)\n",
        "print(\"=\"*20)\n",
        "print(\"The predicted Class is : \",kmeans.predict([test_data]))"
      ],
      "metadata": {
        "colab": {
          "base_uri": "https://localhost:8080/"
        },
        "id": "OvQQBPYCEX01",
        "outputId": "b4df926c-9110-4599-864e-582b29000c20"
      },
      "execution_count": null,
      "outputs": [
        {
          "output_type": "stream",
          "name": "stderr",
          "text": [
            "/usr/local/lib/python3.10/dist-packages/sklearn/cluster/_kmeans.py:870: FutureWarning: The default value of `n_init` will change from 10 to 'auto' in 1.4. Set the value of `n_init` explicitly to suppress the warning\n",
            "  warnings.warn(\n"
          ]
        },
        {
          "output_type": "stream",
          "name": "stdout",
          "text": [
            "The input data is \n",
            "VAR1 \t VAR2 \t CLASS\n",
            "1.713 \t 1.586 \t 0\n",
            "0.18 \t 1.786 \t 1\n",
            "0.353 \t 1.24 \t 1\n",
            "0.94 \t 1.566 \t 0\n",
            "1.486 \t 0.759 \t 1\n",
            "1.266 \t 1.106 \t 0\n",
            "1.54 \t 0.419 \t 1\n",
            "0.459 \t 1.799 \t 1\n",
            "0.773 \t 0.186 \t 1\n",
            "====================\n",
            "The Test data to predict \n",
            "Enter Value for VAR1 :0.906\n",
            "Enter Value for VAR2 :0.606\n",
            "====================\n",
            "The predicted Class is :  [0]\n"
          ]
        }
      ]
    },
    {
      "cell_type": "markdown",
      "source": [
        "5. The following training examples map descriptions of individuals onto high, medium and low credit-worthiness.\n",
        "\n",
        "medium skiing design single twenties no -> highRisk\n",
        "\n",
        "high golf trading married forties yes -> lowRisk\n",
        "\n",
        "low speedway transport married thirties yes -> medRisk\n",
        "\n",
        "medium football banking single thirties yes -> lowRisk\n",
        "\n",
        "high flying media married fifties yes -> highRisk\n",
        "\n",
        "low football security single twenties no -> medRisk\n",
        "\n",
        "medium golf media single thirties yes -> medRisk\n",
        "\n",
        "medium golf transport married forties yes -> lowRisk\n",
        "\n",
        "high skiing banking single thirties yes -> highRisk\n",
        "\n",
        "low golf unemployed married forties yes -> highRisk\n",
        "\n",
        "\n",
        "Input attributes are (from left to right) income, recreation, job, status, age-group, home-owner.\n",
        "\n",
        "Find the unconditional probability of 'golf' and the conditional probability of 'single' given 'medRisk' in the dataset"
      ],
      "metadata": {
        "id": "BUGcbjDrJQzZ"
      }
    },
    {
      "cell_type": "code",
      "source": [
        "total_Records=10\n",
        "numGolfRecords=4\n",
        "unConditionalprobGolf=numGolfRecords / total_Records\n",
        "print(\"Unconditional probability of golf: ={}\".format(unConditionalprobGolf))\n",
        "#conditional probability of 'single' given 'medRisk'\n",
        "numMedRiskSingle=2\n",
        "numMedRisk=3\n",
        "probMedRiskSingle=numMedRiskSingle/total_Records\n",
        "probMedRisk=numMedRisk/total_Records\n",
        "conditionalProb=(probMedRiskSingle/probMedRisk)\n",
        "print(\"Conditional probability of single given medRisk: = {}\".format(conditionalProb))"
      ],
      "metadata": {
        "colab": {
          "base_uri": "https://localhost:8080/"
        },
        "id": "dXIMVyLIIuy-",
        "outputId": "d8cbdb68-82af-4bdf-f327-207ddaec0900"
      },
      "execution_count": null,
      "outputs": [
        {
          "output_type": "stream",
          "name": "stdout",
          "text": [
            "Unconditional probability of golf: =0.4\n",
            "Conditional probability of single given medRisk: = 0.6666666666666667\n"
          ]
        }
      ]
    },
    {
      "cell_type": "markdown",
      "source": [
        "6. Implement linear regression using python"
      ],
      "metadata": {
        "id": "7MtiG50zJ6ov"
      }
    },
    {
      "cell_type": "code",
      "source": [
        "import pandas as pd\n",
        "import numpy as np\n",
        "import matplotlib.pyplot as plt\n",
        "# To read data from Age_Income.csv file\n",
        "dataFrame = pd.read_csv('/Age_Income.csv')\n",
        "# To place data in to age and income vectors\n",
        "age = dataFrame['Age']\n",
        "income = dataFrame['Income']\n",
        "\n",
        "# number of points\n",
        "num = np.size(age)\n",
        "# To find the mean of age and income vector\n",
        "mean_age = np.mean(age)\n",
        "mean_income = np.mean(income)\n",
        "\n",
        "# calculating cross-deviation and deviation about age\n",
        "CD_ageincome = np.sum(income*age) - num*mean_income*mean_age\n",
        "CD_ageage = np.sum(age*age) - num*mean_age*mean_age\n",
        "\n",
        "# calculating regression coefficients\n",
        "b1 = CD_ageincome / CD_ageage\n",
        "b0 = mean_income - b1*mean_age\n",
        "# to display coefficients\n",
        "print(\"Estimated Coefficients :\")\n",
        "print(\"b0 = \",b0,\"\\nb1 = \",b1)\n",
        "# To plot the actual points as scatter plot\n",
        "plt.scatter(age, income, color = \"b\",marker = \"o\")\n",
        "# TO predict response vector\n",
        "response_Vec = b0 + b1*age\n",
        "# To plot the regression line\n",
        "plt.plot(age, response_Vec, color = \"r\")\n",
        "# Placing labels\n",
        "plt.xlabel('Age')\n",
        "plt.ylabel('Income')\n",
        "# To display plot\n",
        "plt.show()"
      ],
      "metadata": {
        "colab": {
          "base_uri": "https://localhost:8080/",
          "height": 501
        },
        "id": "Zt_EOKmEJoh2",
        "outputId": "bc75dc7a-72b4-426b-ef26-e4a2e0681e84"
      },
      "execution_count": null,
      "outputs": [
        {
          "output_type": "stream",
          "name": "stdout",
          "text": [
            "Estimated Coefficients :\n",
            "b0 =  -14560.45016077166 \n",
            "b1 =  1550.7923748277433\n"
          ]
        },
        {
          "output_type": "display_data",
          "data": {
            "text/plain": [
              "<Figure size 640x480 with 1 Axes>"
            ],
            "image/png": "[encoded data removed]"
          },
          "metadata": {}
        }
      ]
    },
    {
      "cell_type": "markdown",
      "source": [
        "7. Implement naive baye's theorem to classify the English text"
      ],
      "metadata": {
        "id": "tqFk8eu7ON3E"
      }
    },
    {
      "cell_type": "code",
      "source": [
        "import pandas as pd\n",
        "from sklearn.model_selection import train_test_split\n",
        "from sklearn.feature_extraction.text import CountVectorizer\n",
        "# Naive Bayes Module\n",
        "from sklearn.naive_bayes import MultinomialNB\n",
        "from sklearn.metrics import accuracy_score, confusion_matrix, precision_score, recall_score\n",
        "\n",
        "msglbl_data = pd.read_csv('/Statements_data.csv', names=['Message', 'Label'])\n",
        "print(\"The Total instances in the Dataset: \", msglbl_data.shape[0])\n",
        "msglbl_data['labelnum'] = msglbl_data.Label.map({'pos': 1, 'neg': 0})\n",
        "# place the data in X and Y Vectors\n",
        "X = msglbl_data[\"Message\"]\n",
        "Y = msglbl_data.labelnum\n",
        "# to split the data into train se and test set\n",
        "Xtrain, Xtest, Ytrain, Ytest = train_test_split(X, Y)\n",
        "\n",
        "count_vect = CountVectorizer()\n",
        "Xtrain_dims = count_vect.fit_transform(Xtrain)\n",
        "Xtest_dims = count_vect.transform(Xtest)\n",
        "df = pd.DataFrame(Xtrain_dims.toarray(),columns=count_vect.get_feature_names_out())\n",
        "clf = MultinomialNB()\n",
        "# to fit the train data into model\n",
        "clf.fit(Xtrain_dims, Ytrain)\n",
        "# to predict the test data\n",
        "prediction = clf.predict(Xtest_dims)\n",
        "print('******** Accuracy Metrics *********')\n",
        "print('Accuracy : ', accuracy_score(Ytest, prediction))\n",
        "print('Recall : ', recall_score(Ytest, prediction))\n",
        "print('Precision : ',precision_score(Ytest, prediction))\n",
        "print('Confusion Matrix : \\n', confusion_matrix(Ytest, prediction))\n",
        "print(10*\"-\")\n",
        "# to predict the input statement\n",
        "test_stmt = [input(\"Enter any statement to predict :\")]\n",
        "test_dims = count_vect.transform(test_stmt)\n",
        "pred = clf.predict(test_dims)\n",
        "for stmt,lbl in zip(test_stmt,pred):\n",
        "\tif lbl == 1:\n",
        "\t\tprint(\"Statement is Positive\")\n",
        "\telse:\n",
        "\t\tprint(\"Statement is Negative\")"
      ],
      "metadata": {
        "colab": {
          "base_uri": "https://localhost:8080/"
        },
        "id": "fsnWzzkcODj7",
        "outputId": "44a11324-91be-4f5f-f48a-bda9acfbf56f"
      },
      "execution_count": null,
      "outputs": [
        {
          "output_type": "stream",
          "name": "stdout",
          "text": [
            "The Total instances in the Dataset:  18\n",
            "******** Accuracy Metrics *********\n",
            "Accuracy :  0.2\n",
            "Recall :  0.5\n",
            "Precision :  0.25\n",
            "Confusion Matrix : \n",
            " [[0 3]\n",
            " [1 1]]\n",
            "----------\n",
            "Enter any statement to predict :I Love Goa\n",
            "Statement is Positive\n"
          ]
        }
      ]
    },
    {
      "cell_type": "markdown",
      "source": [
        "8. Implement an algorithm to demonstrate the significance of genetic algorithm"
      ],
      "metadata": {
        "id": "vGbRhohnUscQ"
      }
    },
    {
      "cell_type": "code",
      "source": [
        "# Python to create target string, starting from\n",
        "# random string using Genetic Algorithm\n",
        "\n",
        "import random\n",
        "\n",
        "# Number of individuals in each generation\n",
        "POPULATION_SIZE = 100\n",
        "\n",
        "# Valid genes\n",
        "GENES = '''abcdefghijklmnopqrstuvwxyzABCDEFGHIJKLMNOP\n",
        "QRSTUVWXYZ 1234567890, .-;:_!\"#%&/()=?@${[]}'''\n",
        "\n",
        "# Target string to be generated\n",
        "TARGET = \"I love my family\"\n",
        "\n",
        "class Individual(object):\n",
        "  '''\n",
        "  Class representing individual in population '''\n",
        "  def __init__(self, chromosome):\n",
        "   self.chromosome = chromosome\n",
        "   self.fitness = self.cal_fitness()\n",
        "  @classmethod\n",
        "  def mutated_genes(self):\n",
        "    '''\n",
        "    create random genes for mutation\n",
        "    '''\n",
        "    global GENES\n",
        "    gene = random.choice(GENES)\n",
        "    return gene\n",
        "  @classmethod\n",
        "  def create_gnome(self):\n",
        "    '''\n",
        "    create chromosome or string of genes\n",
        "    '''\n",
        "    global TARGET\n",
        "    gnome_len = len(TARGET)\n",
        "    return [self.mutated_genes() for _ in range(gnome_len)]\n",
        "  def mate(self, par2):\n",
        "    ''' Perform mating and produce new offspring '''\n",
        "    # chromosome for offspring\n",
        "    child_chromosome = []\n",
        "    for gp1, gp2 in zip(self.chromosome, par2.chromosome):\n",
        "      # random probability\n",
        "      prob = random.random()\n",
        "      # if prob is less than 0.45, insert gene\n",
        "      # from parent 1\n",
        "      if prob < 0.45:\n",
        "         child_chromosome.append(gp1)\n",
        "      # if prob is between 0.45 and 0.90, insert\n",
        "      # gene from parent 2\n",
        "      elif prob < 0.90:\n",
        "         child_chromosome.append(gp2)\n",
        "    # otherwise insert random gene(mutate),\n",
        "    # for maintaining diversity\n",
        "      else:\n",
        "       child_chromosome.append(self.mutated_genes())\n",
        "    # create new Individual(offspring) using\n",
        "    # generated chromosome for offspring\n",
        "    return Individual(child_chromosome)\n",
        "  def cal_fitness(self):\n",
        "    ''' Calculate fittness score, it is the number of\n",
        "    characters in string which differ from target string. '''\n",
        "    global TARGET\n",
        "    fitness = 0\n",
        "    for gs, gt in zip(self.chromosome, TARGET):\n",
        "      if gs != gt: fitness+= 1\n",
        "    return fitness\n",
        "# Driver code\n",
        "def main():\n",
        "  global POPULATION_SIZE\n",
        "  #current generation\n",
        "  generation = 1\n",
        "\n",
        "  found = False\n",
        "  population = []\n",
        "# create initial population\n",
        "  for _ in range(POPULATION_SIZE):\n",
        "           gnome = Individual.create_gnome()\n",
        "           population.append(Individual(gnome))\n",
        "  while not found:\n",
        "   # sort the population in increasing order of fitness score\n",
        "   population = sorted(population, key = lambda x:x.fitness)\n",
        "   # if the individual having lowest fitness score ie.\n",
        "   # 0 then we know that we have reached to the target\n",
        "   # and break the loop\n",
        "   if population[0].fitness <= 0:\n",
        "      found = True\n",
        "      break\n",
        "   # Otherwise generate new offsprings for new generation\n",
        "   new_generation = []\n",
        "   # Perform Elitism, that mean 10% of fittest population\n",
        "   # goes to the next generation\n",
        "   s = int((10*POPULATION_SIZE)/100)\n",
        "   new_generation.extend(population[:s])\n",
        "\n",
        "   # From 50% of fittest population, Individuals\n",
        "   # will mate to produce offspring\n",
        "   s = int((90*POPULATION_SIZE)/100)\n",
        "   for _ in range(s):\n",
        "      parent1 = random.choice(population[:50])\n",
        "      parent2 = random.choice(population[:50])\n",
        "      child = parent1.mate(parent2)\n",
        "      new_generation.append(child)\n",
        "   population = new_generation\n",
        "   print(\"Generation: {}\\tString: {}\\tFitness: {}\".\\\n",
        "       format(generation,\n",
        "       \"\".join(population[0].chromosome),\n",
        "       population[0].fitness))\n",
        "   generation += 1\n",
        "  print(\"Generation: {}\\tString: {}\\tFitness: {}\".\\\n",
        "     format(generation,\n",
        "     \"\".join(population[0].chromosome),\n",
        "   population[0].fitness))\n",
        "if __name__ == '__main__':\n",
        " main()"
      ],
      "metadata": {
        "colab": {
          "base_uri": "https://localhost:8080/"
        },
        "id": "66BCOZIlUyHM",
        "outputId": "10d1324c-e32e-4371-bfc7-bd57be8330d7"
      },
      "execution_count": null,
      "outputs": [
        {
          "output_type": "stream",
          "name": "stdout",
          "text": [
            "Generation: 1\tString: PE2d\n",
            "d 1X u]Ml:f\tFitness: 14\n",
            "Generation: 2\tString: PE2d\n",
            "d 1X u]Ml:f\tFitness: 14\n",
            "Generation: 3\tString: PE2d\n",
            "d 1X u]Ml:f\tFitness: 14\n",
            "Generation: 4\tString: K [?kG H1C4O/%lE\tFitness: 13\n",
            "Generation: 5\tString: \n",
            "5wod[ 1P AYbiC&\tFitness: 12\n",
            "Generation: 6\tString: \n",
            "5wod[ 1P AYbiC&\tFitness: 12\n",
            "Generation: 7\tString: ?5lod[ hy AYri6&\tFitness: 10\n",
            "Generation: 8\tString: ?5lod[ hy AYri6&\tFitness: 10\n",
            "Generation: 9\tString: K lod; vy kM,ilT\tFitness: 8\n",
            "Generation: 10\tString: K lod; vy kM,ilT\tFitness: 8\n",
            "Generation: 11\tString: K lod; vy kM,ilT\tFitness: 8\n",
            "Generation: 12\tString: ? lovv ey qavi6.\tFitness: 7\n",
            "Generation: 13\tString: K lov; vy ,a,il1\tFitness: 6\n",
            "Generation: 14\tString: K lov; vy ,a,il1\tFitness: 6\n",
            "Generation: 15\tString: K lov; vy ,a,il1\tFitness: 6\n",
            "Generation: 16\tString: K lov; vy ,a,il1\tFitness: 6\n",
            "Generation: 17\tString: @ lov; my ;aMilf\tFitness: 5\n",
            "Generation: 18\tString: @ lov; my ;aMilf\tFitness: 5\n",
            "Generation: 19\tString: @ lov; my ;aMilf\tFitness: 5\n",
            "Generation: 20\tString: @ lov; my ;aMilf\tFitness: 5\n",
            "Generation: 21\tString: P lov] vy [amily\tFitness: 4\n",
            "Generation: 22\tString: P lov] vy [amily\tFitness: 4\n",
            "Generation: 23\tString: = lovd my #amily\tFitness: 3\n",
            "Generation: 24\tString: = lovd my #amily\tFitness: 3\n",
            "Generation: 25\tString: = lovd my #amily\tFitness: 3\n",
            "Generation: 26\tString: = lovd my #amily\tFitness: 3\n",
            "Generation: 27\tString: = lovd my #amily\tFitness: 3\n",
            "Generation: 28\tString: @ lov] my family\tFitness: 2\n",
            "Generation: 29\tString: @ lov] my family\tFitness: 2\n",
            "Generation: 30\tString: @ lov] my family\tFitness: 2\n",
            "Generation: 31\tString: @ lov] my family\tFitness: 2\n",
            "Generation: 32\tString: @ lov] my family\tFitness: 2\n",
            "Generation: 33\tString: @ lov] my family\tFitness: 2\n",
            "Generation: 34\tString: @ lov] my family\tFitness: 2\n",
            "Generation: 35\tString: @ lov] my family\tFitness: 2\n",
            "Generation: 36\tString: @ lov] my family\tFitness: 2\n",
            "Generation: 37\tString: @ lov] my family\tFitness: 2\n",
            "Generation: 38\tString: @ lov] my family\tFitness: 2\n",
            "Generation: 39\tString: @ lov] my family\tFitness: 2\n",
            "Generation: 40\tString: @ lov] my family\tFitness: 2\n",
            "Generation: 41\tString: @ love my family\tFitness: 1\n",
            "Generation: 42\tString: @ love my family\tFitness: 1\n",
            "Generation: 43\tString: @ love my family\tFitness: 1\n",
            "Generation: 44\tString: @ love my family\tFitness: 1\n",
            "Generation: 45\tString: @ love my family\tFitness: 1\n",
            "Generation: 46\tString: @ love my family\tFitness: 1\n",
            "Generation: 47\tString: @ love my family\tFitness: 1\n",
            "Generation: 48\tString: @ love my family\tFitness: 1\n",
            "Generation: 49\tString: @ love my family\tFitness: 1\n",
            "Generation: 50\tString: @ love my family\tFitness: 1\n",
            "Generation: 51\tString: @ love my family\tFitness: 1\n",
            "Generation: 52\tString: @ love my family\tFitness: 1\n",
            "Generation: 53\tString: @ love my family\tFitness: 1\n",
            "Generation: 54\tString: @ love my family\tFitness: 1\n",
            "Generation: 55\tString: @ love my family\tFitness: 1\n",
            "Generation: 56\tString: @ love my family\tFitness: 1\n",
            "Generation: 57\tString: @ love my family\tFitness: 1\n",
            "Generation: 58\tString: @ love my family\tFitness: 1\n",
            "Generation: 59\tString: @ love my family\tFitness: 1\n",
            "Generation: 60\tString: @ love my family\tFitness: 1\n",
            "Generation: 61\tString: @ love my family\tFitness: 1\n",
            "Generation: 62\tString: @ love my family\tFitness: 1\n",
            "Generation: 63\tString: @ love my family\tFitness: 1\n",
            "Generation: 64\tString: @ love my family\tFitness: 1\n",
            "Generation: 65\tString: @ love my family\tFitness: 1\n",
            "Generation: 66\tString: @ love my family\tFitness: 1\n",
            "Generation: 67\tString: @ love my family\tFitness: 1\n",
            "Generation: 68\tString: @ love my family\tFitness: 1\n",
            "Generation: 69\tString: @ love my family\tFitness: 1\n",
            "Generation: 70\tString: @ love my family\tFitness: 1\n",
            "Generation: 71\tString: @ love my family\tFitness: 1\n",
            "Generation: 72\tString: @ love my family\tFitness: 1\n",
            "Generation: 73\tString: @ love my family\tFitness: 1\n",
            "Generation: 74\tString: @ love my family\tFitness: 1\n",
            "Generation: 75\tString: @ love my family\tFitness: 1\n",
            "Generation: 76\tString: @ love my family\tFitness: 1\n",
            "Generation: 77\tString: @ love my family\tFitness: 1\n",
            "Generation: 78\tString: @ love my family\tFitness: 1\n",
            "Generation: 79\tString: @ love my family\tFitness: 1\n",
            "Generation: 80\tString: @ love my family\tFitness: 1\n",
            "Generation: 81\tString: @ love my family\tFitness: 1\n",
            "Generation: 82\tString: @ love my family\tFitness: 1\n",
            "Generation: 83\tString: @ love my family\tFitness: 1\n",
            "Generation: 84\tString: @ love my family\tFitness: 1\n",
            "Generation: 85\tString: @ love my family\tFitness: 1\n",
            "Generation: 86\tString: @ love my family\tFitness: 1\n",
            "Generation: 87\tString: @ love my family\tFitness: 1\n",
            "Generation: 88\tString: @ love my family\tFitness: 1\n",
            "Generation: 89\tString: @ love my family\tFitness: 1\n",
            "Generation: 90\tString: @ love my family\tFitness: 1\n",
            "Generation: 91\tString: @ love my family\tFitness: 1\n",
            "Generation: 92\tString: I love my family\tFitness: 0\n"
          ]
        }
      ]
    },
    {
      "cell_type": "markdown",
      "source": [
        "9. Implement the finite words classification system using Back-propagation algorithm"
      ],
      "metadata": {
        "id": "Dg8GYMAHQzNt"
      }
    },
    {
      "cell_type": "code",
      "source": [
        "import pandas as pd\n",
        "from sklearn.model_selection import train_test_split\n",
        "from sklearn.feature_extraction.text import CountVectorizer\n",
        "#Neural Network Module\n",
        "from sklearn.neural_network import MLPClassifier\n",
        "from sklearn.metrics import accuracy_score, confusion_matrix, precision_score, recall_score\n",
        "\n",
        "msglbl_data = pd.read_csv('/Statements_data.csv', names=['Message', 'Label'])\n",
        "print(\"The Total instances in the Dataset: \", msglbl_data.shape[0])\n",
        "msglbl_data['labelnum'] = msglbl_data.Label.map({'pos': 1, 'neg': 0})\n",
        "# place the data in X and Y Vectors\n",
        "X = msglbl_data[\"Message\"]\n",
        "Y = msglbl_data.labelnum\n",
        "# to split the data into train se and test set\n",
        "Xtrain, Xtest, Ytrain, Ytest = train_test_split(X, Y)\n",
        "\n",
        "count_vect = CountVectorizer()\n",
        "Xtrain_dims = count_vect.fit_transform(Xtrain)\n",
        "Xtest_dims = count_vect.transform(Xtest)\n",
        "df = pd.DataFrame(Xtrain_dims.toarray(),columns=count_vect.get_feature_names_out())\n",
        "clf = MLPClassifier(solver='lbfgs', alpha=1e-5,hidden_layer_sizes=(5, 2), random_state=1)\n",
        "# to fit the train data into model\n",
        "clf.fit(Xtrain_dims, Ytrain)\n",
        "# to predict the test data\n",
        "prediction = clf.predict(Xtest_dims)\n",
        "print('******** Accuracy Metrics *********')\n",
        "print('Accuracy : ', accuracy_score(Ytest, prediction))\n",
        "print('Recall : ', recall_score(Ytest, prediction))\n",
        "print('Precision : ',precision_score(Ytest, prediction))\n",
        "print('Confusion Matrix : \\n', confusion_matrix(Ytest, prediction))\n",
        "print(10*\"-\")\n",
        "# to predict the input statement\n",
        "test_stmt = [input(\"Enter any statement to predict :\")]\n",
        "test_dims = count_vect.transform(test_stmt)\n",
        "pred = clf.predict(test_dims)\n",
        "for stmt,lbl in zip(test_stmt,pred):\n",
        "\tif lbl == 1:\n",
        "\t\tprint(\"Statement is Positive\")\n",
        "\telse:\n",
        "\t\tprint(\"Statement is Negative\")"
      ],
      "metadata": {
        "colab": {
          "base_uri": "https://localhost:8080/"
        },
        "id": "CVbV8DDoQyrm",
        "outputId": "c3053ac2-b59d-4d3c-9c9c-e13f4c8f859a"
      },
      "execution_count": null,
      "outputs": [
        {
          "output_type": "stream",
          "name": "stdout",
          "text": [
            "The Total instances in the Dataset:  18\n",
            "******** Accuracy Metrics *********\n",
            "Accuracy :  0.4\n",
            "Recall :  0.6666666666666666\n",
            "Precision :  0.5\n",
            "Confusion Matrix : \n",
            " [[0 2]\n",
            " [1 2]]\n",
            "----------\n",
            "Enter any statement to predict :i do not like winter\n",
            "Statement is Negative\n"
          ]
        }
      ]
    },
    {
      "cell_type": "code",
      "source": [
        "a=10; #Integer Datatype\n",
        "b=11.5; #Float Datatype\n",
        "c=2.05j; #Complex Number\n",
        "print(\"a is Type of\",type(a)); #prints type of variable a\n",
        "print(\"b is Type of\",type(b)); #prints type of variable b\n",
        "print(\"c is Type of\",type(c)); #prints type of variable c"
      ],
      "metadata": {
        "colab": {
          "base_uri": "https://localhost:8080/"
        },
        "id": "XcUCyRCX1XfN",
        "outputId": "066b07d4-b5dc-4524-fb81-af655537ea5b"
      },
      "execution_count": null,
      "outputs": [
        {
          "output_type": "stream",
          "name": "stdout",
          "text": [
            "a is Type of <class 'int'>\n",
            "b is Type of <class 'float'>\n",
            "c is Type of <class 'complex'>\n"
          ]
        }
      ]
    }
  ]
}